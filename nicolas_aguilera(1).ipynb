{
 "cells": [
  {
   "cell_type": "markdown",
   "metadata": {
    "id": "Z4vd_1jHc-Dz"
   },
   "source": [
    "# **TRABAJO PRÁCTICO FINAL**\n",
    "\n",
    "| Integrantes | Legajo|\n",
    "| ----- | --- |\n",
    "|Aguilera, Nicolas | X-9999/9 |\n",
    "|Zanin, Santino | X-9999/9 |"
   ]
  },
  {
   "cell_type": "markdown",
   "metadata": {
    "id": "LKXL4eDrekXZ"
   },
   "source": [
    "# Archivos"
   ]
  },
  {
   "cell_type": "markdown",
   "metadata": {
    "id": "v_ihUbk6TsV1"
   },
   "source": [
    "## Descarga"
   ]
  },
  {
   "cell_type": "code",
   "execution_count": 44,
   "metadata": {
    "colab": {
     "base_uri": "https://localhost:8080/"
    },
    "id": "PZCFSAgBeNqP",
    "outputId": "123240b3-c0cc-433b-9af8-d29bade89943"
   },
   "outputs": [
    {
     "name": "stderr",
     "output_type": "stream",
     "text": [
      "'gdown' is not recognized as an internal or external command,\n",
      "operable program or batch file.\n",
      "'gdown' is not recognized as an internal or external command,\n",
      "operable program or batch file.\n"
     ]
    }
   ],
   "source": [
    "!gdown 1WWvf6yn5oS1xarapKnwr3s8l2wKWtd7d # releer colab csv para la comisión 1 y 3\n",
    "!gdown 12Hq0X1H3pS82pYDHY11hn132lWfl8CJn"
   ]
  },
  {
   "cell_type": "markdown",
   "metadata": {
    "id": "t037gptYObGv"
   },
   "source": [
    "# Modulos y lectura"
   ]
  },
  {
   "cell_type": "code",
   "execution_count": 45,
   "metadata": {
    "id": "a4gH8DHXOdbu"
   },
   "outputs": [],
   "source": [
    "import matplotlib.pyplot as plt\n",
    "import csv"
   ]
  },
  {
   "cell_type": "markdown",
   "metadata": {
    "id": "T36g6ukAq0SM"
   },
   "source": [
    "# Enunciado 1\n",
    "- Leer el archivo **'coordenadas_provincias.csv'** que se encuentra en esta dirección: \\\n",
    "  `\n",
    "  https://drive.google.com/file/d/1WWvf6yn5oS1xarapKnwr3s8l2wKWtd7d/view?usp=drive_link\n",
    "  `\n",
    "- Crear la función listToDict que se encarga de convertir los datos leídos a una lista de diccionarios.\n",
    "- Llamar a la función anterior con los datos del archivo leído y verificar que devuelva lo pedido.\n",
    "- Crear el constructor de la clase **'Provincia'**\n",
    "- Crear un objeto de la clase **'Provincia'**\n"
   ]
  },
  {
   "cell_type": "code",
   "execution_count": 46,
   "metadata": {
    "id": "mAoEK9bKhlaB"
   },
   "outputs": [],
   "source": [
    "def openFile(*args) -> list:\n",
    "    \"\"\"\n",
    "    Recibe un archivo de tipo csv y devuelve dos listas, una con cada dato de las provincias y otra con los encabezados.\n",
    "    \"\"\"\n",
    "    with open(*args, \"r\") as contenido:\n",
    "        lector = csv.reader(contenido)\n",
    "        lista_retorno = []\n",
    "        encabezado = next(lector)\n",
    "        for fila in lector:\n",
    "            for elemento in fila:\n",
    "                lista_retorno.append(elemento)\n",
    "\n",
    "    return lista_retorno, encabezado"
   ]
  },
  {
   "cell_type": "code",
   "execution_count": 47,
   "metadata": {
    "id": "MEOI8iy-qmtO"
   },
   "outputs": [],
   "source": [
    "def listToDict(lista_retorno: list, encabezado: list) -> list:\n",
    "    \"\"\"\n",
    "    Recibe una lista con nombres y coordenadas de provincias y crea\n",
    "    un diccionario por cada uno, con el nombre de la provincia como clave y las\n",
    "    coordenadas como valores.\n",
    "    Devuelve una lista con estos diccionarios.\n",
    "    \"\"\"\n",
    "    lista_provincias_coordenadas = []\n",
    "\n",
    "    for celda in range(0, len(lista_retorno), 3):\n",
    "        provincia_coordenadas = {}\n",
    "        clave = lista_retorno[celda]\n",
    "        valores = (lista_retorno[celda+1], listalista_retorno[celda+2])\n",
    "        provincia_coordenadas[clave] = valores\n",
    "        lista_provincias_coordenadas.append(provincia_coordenadas)\n",
    "\n",
    "    return lista_provincias_coordenadas"
   ]
  },
  {
   "cell_type": "markdown",
   "metadata": {
    "id": "zSvgpU85fNdO"
   },
   "source": [
    "## Clase Provincia"
   ]
  },
  {
   "cell_type": "code",
   "execution_count": 48,
   "metadata": {
    "id": "nDkaHXrqfTxu"
   },
   "outputs": [],
   "source": [
    "class Provincia:\n",
    "  \"\"\"\n",
    "  Esta clase representa una provincia.\n",
    "  Atributos:apertura nombre: str coordenada: tuple\n",
    "  \"\"\"\n",
    "\n",
    "  def __init__(self, nombre: str, coordenada: tuple):\n",
    "    self.nombre = nombre\n",
    "    self.coordenada = coordenada\n",
    "\n",
    "  def __str__(self):\n",
    "    return f\"{self.nombre} es una provincia ubicada en {self.coordenada}\""
   ]
  },
  {
   "cell_type": "code",
   "execution_count": 49,
   "metadata": {
    "id": "unf4a4o3Oh2N"
   },
   "outputs": [],
   "source": [
    "def instanciaProvincia(lista_provincias_coordenadas: list) -> list:\n",
    "    \"\"\"\n",
    "    La función instanciaProvincia recibe una lista de diccionarios y retorna una lista de objetos tipo provincia.\n",
    "    Parte con una lista vacía y luego realiza dos bucles anidados. En primer lugar, itera todos los elementos\n",
    "    (diccionarios) de la lista de output, y en segundo lugar, itera sobre el par clave-valor de cada diccionario invocando\n",
    "    a la clase Provincia asignando como atributos a cada par clave (nombre), valor(coordenada en forma de tupla). Luego\n",
    "    añade cada objeto a la lista de instancias.\n",
    "    \"\"\"\n",
    "    instancia_de_provincias = []\n",
    "\n",
    "    for provincia_index in lista_provincias_coordenadas:\n",
    "        for nombre, coordenada in provincia_index.items():\n",
    "            instancia = Provincia(nombre, coordenada)\n",
    "            instancia_de_provincias.append(instancia)\n",
    "\n",
    "    return instancia_de_provincias"
   ]
  },
  {
   "cell_type": "markdown",
   "metadata": {
    "id": "ojaamufUQjAG"
   },
   "source": [
    "## Clase"
   ]
  },
  {
   "cell_type": "code",
   "execution_count": 50,
   "metadata": {
    "id": "Y8ikbpQaQckH"
   },
   "outputs": [],
   "source": [
    "class Viaje:\n",
    "    \"\"\"\n",
    "    Esta clase representa un viaje,\n",
    "    contiene los datos relevantes al análisis.\n",
    "    \"\"\"\n",
    "    def __init__(self, mes_inicio, provincia_origen, provincia_destino, viajes, viajeros, edicion):\n",
    "        self.mes_inicio = mes_inicio\n",
    "        self.provincia_origen = provincia_origen\n",
    "        self.provincia_destino = provincia_destino\n",
    "        self.viajes = viajes\n",
    "        self.viajeros = viajeros\n",
    "        self.edicion = edicion\n",
    "\n",
    "    def __str__(self):\n",
    "        return f\"El presente objeto representa al mes {self.mes_inicio} como fecha de inicio, con origen\" \\\n",
    "               f\" {self.provincia_origen}, destino {self.provincia_destino}, con una cantidad {self.viajes} de viajes\" \\\n",
    "               f\", con una cantidad {self.viajeros} durante la edición {self.edicion}.\""
   ]
  },
  {
   "cell_type": "code",
   "execution_count": 51,
   "metadata": {
    "id": "tNuPlTKDQpvp"
   },
   "outputs": [],
   "source": [
    "def instanciaViaje(lista_retorno: list) -> list:\n",
    "    \"\"\"\n",
    "    La función instanciaViaje crea instancias a partir del output lista_retorno creado por la función openFile. Primero\n",
    "    inicializa una variable fija de contador de cantidad de atributos totales de la clase Viaje. Luego se crea una lista\n",
    "    de listas, que en su interior contiene las instancias individuales de cada Viaje. Se itera un bucle que toma los\n",
    "    elementos de la lista y al igualar el número de atributos de la instancia, los atribuye a una instancia individual\n",
    "    del objeto. Este objeto se añade a la lista de listas y se reinicia la lista de objetos individuales inicializándose\n",
    "    vacía. Por último, retorna una lista que contiene todas las instancias de Viaje.\n",
    "    \"\"\"\n",
    "    nro_de_atributos_instancia = 6\n",
    "    instancia_de_viajes = []\n",
    "    instancia = []\n",
    "\n",
    "    for elemento in lista_retorno:\n",
    "        instancia.append(elemento)\n",
    "        if len(instancia) == nro_de_atributos_instancia:\n",
    "            viaje = Viaje(instancia[0], instancia[1], instancia[2], int(instancia[3]), int(instancia[4]), instancia[5])\n",
    "            instancia_de_viajes.append(viaje)\n",
    "            instancia = []\n",
    "    print(\"Se crearon \", len(instancia_de_viajes), \"instancias de Viaje\")\n",
    "    return instancia_de_viajes"
   ]
  },
  {
   "cell_type": "markdown",
   "metadata": {
    "id": "-U2WSR0CQxtV"
   },
   "source": [
    "## Funciones"
   ]
  },
  {
   "cell_type": "markdown",
   "metadata": {
    "id": "UcQHpcm8NYDo"
   },
   "source": [
    "### Datos Relevantes"
   ]
  },
  {
   "cell_type": "code",
   "execution_count": 52,
   "metadata": {
    "id": "91TJtlfUh7Eg"
   },
   "outputs": [],
   "source": [
    "def pedidoParametros():\n",
    "    \"\"\"\n",
    "    Esta función auxiliar recibe parámetros del usuario para usarlos luego en datos_relevantes.\n",
    "    \"\"\"\n",
    "    lista_parametros = []\n",
    "    opcion = input(\"Ingrese los parametros deseados (* para salir):\")\n",
    "    while opcion != \"*\":\n",
    "        lista_parametros.append(opcion)\n",
    "        opcion = input(\"Ingrese los parametros deseados (* para salir):\")\n",
    "\n",
    "    return lista_parametros\n"
   ]
  },
  {
   "cell_type": "code",
   "execution_count": 53,
   "metadata": {
    "id": "mqiFxgfIQ0U1"
   },
   "outputs": [],
   "source": [
    "def datos_relevantes(instancia_de_viajes: list, lista_parametros: list) -> list:\n",
    "    \"\"\"\n",
    "    La función datos_relevantes permite al usuario obtener información del archivo csv removiendo de su output las listas no deseadas.\n",
    "    En primer lugar, crea una lista de listas. A continuación, crea una lista vacía en donde se guardan todos los elementos de una columna.\n",
    "    Un primer bucle revisa que por cada elemento ingresado por el usuario en lista_parámetros se cree una lista vacía. Luego, en caso de\n",
    "    encontrar coincidencia, obtiene los valores de los atributos del mismo nombre y lo agrega a una lista. La función retorna una lista\n",
    "    de listas donde cada una de ellas contiene los valores originalmente presentes en cada columna del csv.\n",
    "    \"\"\"\n",
    "\n",
    "    lista = []\n",
    "    listaAtributos = []\n",
    "\n",
    "    for elemAtributo in lista_parametros:                           # Recorre los atributos ingresados\n",
    "        listaAtributos = []\n",
    "        for instancia in instancia_de_viajes:                       # Recorre los objetos\n",
    "            atributo = getattr(instancia, elemAtributo, None)       # Guardo el atributo pedido del objeto\n",
    "            listaAtributos.append(atributo)                         # Guarda el atributo de ese tipo\n",
    "        lista.append(listaAtributos)                                # Guardo la lista de atributos de ese tipo\n",
    "\n",
    "    return lista"
   ]
  },
  {
   "cell_type": "markdown",
   "metadata": {
    "id": "mvnvNqy3NbiA"
   },
   "source": [
    "### Mas Viajeros"
   ]
  },
  {
   "cell_type": "code",
   "execution_count": 54,
   "metadata": {
    "id": "cHdFGRzKNfGu"
   },
   "outputs": [],
   "source": [
    "def mas_viajeros(instancia_de_viajes: list) -> str:\n",
    "    \"\"\"\n",
    "    Esta función recibe una lista con todos los objetos de tipo Viaje, solicita al usuario un mes a chequear\n",
    "    y devuelve la provincia que más viajeros recibió y cuantos ha recibido.\n",
    "    \"\"\"\n",
    "    ingreso = input(\"Ingrese el año y el mes que desea chequear (ejemplo 2022-01): \")\n",
    "    objetos_mes = []\n",
    "    for instancia in instancia_de_viajes:\n",
    "        if instancia.mes_inicio == ingreso:\n",
    "            objetos_mes.append(instancia)\n",
    "    print(objetos_mes)\n",
    "    valor_mas_alto = 0\n",
    "    for viaje in objetos_mes:\n",
    "        if viaje.viajeros > valor_mas_alto:\n",
    "            valor_mas_alto = viaje.viajeros\n",
    "            provincia_mas_viajeros = viaje.provincia_destino\n",
    "\n",
    "    print(\"La provincia que más viajeros recibió en\",ingreso, \"fue:\",\n",
    "          provincia_mas_viajeros,\"con un total de\", valor_mas_alto,\"viajeros.\")\n",
    "\n",
    "    return viaje.provincia_destino, viaje.viajeros"
   ]
  },
  {
   "cell_type": "markdown",
   "metadata": {
    "id": "-r6ZWd56Nh-n"
   },
   "source": [
    "### Calcular promedios"
   ]
  },
  {
   "cell_type": "code",
   "execution_count": 55,
   "metadata": {
    "id": "qGNMAm-XNm0P"
   },
   "outputs": [],
   "source": [
    "def calcular_promedio(entrada: list) -> float:\n",
    "    \"\"\"\n",
    "    Esta función calcula promedios. Su input puede ser cualquier lista que\n",
    "    contenga elementos de tipo int o float. En el contexto de esta función,\n",
    "    puede recibir como entrada el output viajeros o viajes de la función datos_relevantes.\n",
    "    \"\"\"\n",
    "    promedio = sum(entrada) / len(entrada)\n",
    "    print(\"El promedio resultante es de:\", promedio,\".\")\n",
    "    return promedio"
   ]
  },
  {
   "cell_type": "markdown",
   "metadata": {
    "id": "WS8k13UCN9uS"
   },
   "source": [
    "#Enunciado 3\n",
    "- Usar los datos del archivo 'previaje.csv' para cargar una estructura de datos\n",
    "que consideren adecuada los datos que consideren pertinentes para\n",
    "responder la siguiente pregunta: ¿cuántos viajes fueron realizados en cada\n",
    "edición del programa PreViaje?\n",
    "- Realizar un gráfico de torta que muestre los porcentajes de viajes\n",
    "correspondientes a cada edición, sobre el total de viajes del programa\n",
    "completo. Para ello deberán usar los módulos matplotlib y seaborn. Use los\n",
    "ejemplos publicados como guía."
   ]
  },
  {
   "cell_type": "code",
   "execution_count": 56,
   "metadata": {
    "id": "s_hnyS9pOHX7"
   },
   "outputs": [],
   "source": [
    "def viajes_edicion(instancia_de_viajes: list) -> list:\n",
    "    \"\"\"\n",
    "    Recibe una lista con objetos de tipo viaje y devuelve tres listas con los viajes de cada edición.\n",
    "    \"\"\"\n",
    "    viajes_previaje1 = []\n",
    "    viajes_previaje2 = []\n",
    "    viajes_previaje3 = []\n",
    "    for instancia in instancia_de_viajes:\n",
    "        match instancia.edicion:\n",
    "            case \"previaje 1\":\n",
    "                viajes_previaje1.append(instancia.viajes)\n",
    "            case \"previaje 2\":\n",
    "                viajes_previaje2.append(instancia.viajes)\n",
    "            case \"previaje 3\":\n",
    "                viajes_previaje3.append(instancia.viajes)\n",
    "\n",
    "    print(\"En la edición 1 de PreViaje fueron realizados\", sum(viajes_previaje1),\n",
    "          \"viajes. En la edición 2 de Previaje fueron realizados\", sum(viajes_previaje2),\n",
    "          \"y en la edición 3 de Previaje fueron realizados\", sum(viajes_previaje3), \"viajes. En total se realizaron\",\n",
    "          sum(viajes_previaje1 + viajes_previaje2 + viajes_previaje3), \"viajes.\")\n",
    "\n",
    "    return viajes_previaje1, viajes_previaje2, viajes_previaje3"
   ]
  },
  {
   "cell_type": "code",
   "execution_count": 57,
   "metadata": {
    "id": "1JviHfYEOUg4"
   },
   "outputs": [],
   "source": [
    "def funAux(viajes_previaje1, viajes_previaje2, viajes_previaje3):\n",
    "    \"\"\"\n",
    "    Esta función recibe los viajes de cada edición y devuelve una lista con la cantidad de viajes\n",
    "    en cada edición y una lista con el nombre de cada edición. Es una función auxiliar que procesa datos antes\n",
    "    de que la función DiagramaSectorial los grafique.\n",
    "    \"\"\"\n",
    "    listaCantViajes = [sum(viajes_previaje1), sum(viajes_previaje2), sum(viajes_previaje3)]\n",
    "    ediciones = [\"Edición 1\", \"Edición 2\", \"Edición 3\"]\n",
    "\n",
    "    return listaCantViajes, ediciones"
   ]
  },
  {
   "cell_type": "code",
   "execution_count": 58,
   "metadata": {
    "id": "VAv5uXanOWa_"
   },
   "outputs": [],
   "source": [
    "def DiagramaSectorial(titulo: str, etiquetas, porcentajes):\n",
    "    \"\"\"\n",
    "    Esta funcion crea el diagrama con el porcentaje que representa la cantidad de viajes de cada edición con respecto al total de viajes.\n",
    "    \"\"\"\n",
    "    explode = (0, 0.1, 0)\n",
    "\n",
    "    plt.figure(figsize=(15, 6))\n",
    "    plt.title(titulo, fontsize=25)\n",
    "    plt.pie(porcentajes, labels=etiquetas, autopct=\"%0.1f %%\", shadow = True, explode = explode)"
   ]
  },
  {
   "cell_type": "markdown",
   "metadata": {},
   "source": [
    "# A partir de una provincia de destino, crear una estructura de datos que contenga la cantidad de viajeros desde la provincia de origen"
   ]
  },
  {
   "cell_type": "code",
   "execution_count": 63,
   "metadata": {},
   "outputs": [],
   "source": [
    "def viajerosPorProvincia (instancia_de_viajes: list, destino: str, edicion: str) -> dict:\n",
    "    cantidad_origen = {}\n",
    "    for instancia in instancia_de_viajes:\n",
    "        if edicion == instancia.edicion and destino == instancia.provincia_destino:\n",
    "            if instancia.provincia_origen in cantidad_origen:\n",
    "                cantidad_origen[instancia.provincia_origen] += instancia.viajeros\n",
    "            else:\n",
    "                cantidad_origen[instancia.provincia_origen] = instancia.viajeros\n",
    "    \n",
    "    return cantidad_origen\n",
    "    "
   ]
  },
  {
   "cell_type": "code",
   "execution_count": 60,
   "metadata": {
    "id": "lduUCq1xX9v5"
   },
   "outputs": [],
   "source": [
    "def GraficoBarras(instancia_de_viajes: list) -> list:\n",
    "    \"\"\"\n",
    "\n",
    "    :param instancia_de_viajes:\n",
    "    :return:\n",
    "    \"\"\"\n",
    "    ingreso = input(\"Ingrese la edición a chequear: (ejemplo 'previaje 1')\")\n",
    "    lista_provisoria = []\n",
    "    lista_viajeros = []\n",
    "    lista_provincias = []\n",
    "    for instancia in instancia_de_viajes:\n",
    "        if ingreso == instancia.edicion:\n",
    "            lista_provisoria.append(instancia)\n",
    "\n",
    "   #  for instancia in lista_provisoria:\n",
    "   #     nombre = []\n",
    "   #      nombre.append(instancia.provincia_destino)\n",
    "   #      print(nombre)\n",
    "   #     if instancia.provincia_destino == nombre:\n",
    "   #         lista_suma.append(instancia.viajeros)\n",
    "   #     lista_suma = sum(lista_suma)\n",
    "   #     lista_viajeros.append(lista_suma)\n",
    "\n",
    "    #valores_viajeros = []\n",
    "    #viajeros_total_provincia = []\n",
    "    #for instancia in lista_provisoria:\n",
    "    #    destino = instancia.provincia_destino\n",
    "    #    valores_viajeros.append(instancia.viajeros)\n",
    "    #    if instancia.provincia_destino != destino:\n",
    "    #        sum(valores_viajeros)\n",
    "    #        viajeros_total_provincia.append(valores_viajeros)\n",
    "    #        valores_viajeros = []\n",
    "\n",
    "\n",
    "    #print(destino)\n",
    "    #print(lista_viajeros)\n",
    "    #print(lista_provincias)\n",
    "\n",
    "    #plt.figure(figsize=(15, 6))\n",
    "    #plt.title(\"\", fontsize=25)\n",
    "    #plt.bar(lista_provincias, lista_viajeros)\n",
    "\n",
    "    #return lista_viajeros\n",
    "\n",
    "\n"
   ]
  },
  {
   "cell_type": "markdown",
   "metadata": {
    "id": "BGPZb2Bkfonf"
   },
   "source": [
    "# Programa principal"
   ]
  },
  {
   "cell_type": "code",
   "execution_count": 61,
   "metadata": {
    "colab": {
     "base_uri": "https://localhost:8080/",
     "height": 1000
    },
    "id": "hJzceKg1jd8Y",
    "outputId": "a750a2ef-3ced-4808-e55b-d10311fac598"
   },
   "outputs": [
    {
     "name": "stdout",
     "output_type": "stream",
     "text": [
      "Se crearon  11033 instancias de Viaje\n"
     ]
    },
    {
     "name": "stdin",
     "output_type": "stream",
     "text": [
      "Ingrese los parametros deseados (* para salir): *\n"
     ]
    },
    {
     "name": "stdout",
     "output_type": "stream",
     "text": [
      "[]\n",
      "En la edición 1 de PreViaje fueron realizados 169454 viajes. En la edición 2 de Previaje fueron realizados 1549951 y en la edición 3 de Previaje fueron realizados 369655 viajes. En total se realizaron 2089060 viajes.\n"
     ]
    },
    {
     "name": "stdin",
     "output_type": "stream",
     "text": [
      "Ingrese la edición a chequear: (ejemplo 'previaje 1') previaje 1\n"
     ]
    },
    {
     "data": {
      "image/png": "[encoded data removed]",
      "text/plain": [
       "<Figure size 1500x600 with 1 Axes>"
      ]
     },
     "metadata": {},
     "output_type": "display_data"
    }
   ],
   "source": [
    "previaje, encabezado = openFile(\"previaje.csv\")\n",
    "\n",
    "listaObjViajes = instanciaViaje(previaje)\n",
    "listaPedidos = pedidoParametros()\n",
    "datosR = datos_relevantes(listaObjViajes, listaPedidos)\n",
    "print(datosR)\n",
    "\n",
    "edic1, edic2, edic3 = viajes_edicion(listaObjViajes)\n",
    "listaCantViajes, ediciones = funAux(edic1, edic2, edic3)\n",
    "DiagramaSectorial(\"Porcentaje de viajes según edición\", ediciones, listaCantViajes)\n",
    "GraficoBarras(listaObjViajes)\n",
    "plt.show()\n"
   ]
  },
  {
   "cell_type": "code",
   "execution_count": 64,
   "metadata": {
    "scrolled": true
   },
   "outputs": [
    {
     "name": "stdout",
     "output_type": "stream",
     "text": [
      "{'Buenos Aires': 47839, 'Catamarca': 44, 'Chaco': 146, 'Chubut': 294, 'Ciudad AutÃ³noma de Buenos Aires': 29889, 'Corrientes': 79, 'CÃ³rdoba': 3712, 'Entre RÃ\\xados': 1653, 'Formosa': 4, 'Jujuy': 257, 'La Pampa': 124, 'La Rioja': 175, 'Mendoza': 2584, 'Misiones': 222, 'NeuquÃ©n': 517, 'RÃ\\xado Negro': 1363, 'Salta': 982, 'San Juan': 317, 'San Luis': 169, 'Santa Cruz': 201, 'Santa Fe': 8846, 'Santiago del Estero': 103, 'Tierra del Fuego, AntÃ¡rtida e Islas del AtlÃ¡ntico Sur': 604, 'TucumÃ¡n': 1427}\n"
     ]
    }
   ],
   "source": [
    "a = viajerosPorProvincia(listaObjViajes, \"Buenos Aires\", \"previaje 1\")\n",
    "print(a)"
   ]
  },
  {
   "cell_type": "code",
   "execution_count": 65,
   "metadata": {},
   "outputs": [
    {
     "data": {
      "text/plain": [
       "<function matplotlib.pyplot.show(close=None, block=None)>"
      ]
     },
     "execution_count": 65,
     "metadata": {},
     "output_type": "execute_result"
    },
    {
     "data": {
      "image/png": "[encoded data removed]",
      "text/plain": [
       "<Figure size 1500x600 with 1 Axes>"
      ]
     },
     "metadata": {},
     "output_type": "display_data"
    }
   ],
   "source": [
    "plt.figure(figsize=(15, 6))\n",
    "plt.title(\"\", fontsize=25)\n",
    "plt.bar(a.keys(), a.values())\n",
    "plt.show"
   ]
  },
  {
   "cell_type": "code",
   "execution_count": null,
   "metadata": {},
   "outputs": [],
   "source": []
  }
 ],
 "metadata": {
  "colab": {
   "collapsed_sections": [
    "6LB7mJ4DdSxN"
   ],
   "provenance": []
  },
  "kernelspec": {
   "display_name": "Python 3 (ipykernel)",
   "language": "python",
   "name": "python3"
  },
  "language_info": {
   "codemirror_mode": {
    "name": "ipython",
    "version": 3
   },
   "file_extension": ".py",
   "mimetype": "text/x-python",
   "name": "python",
   "nbconvert_exporter": "python",
   "pygments_lexer": "ipython3",
   "version": "3.11.5"
  }
 },
 "nbformat": 4,
 "nbformat_minor": 4
}
