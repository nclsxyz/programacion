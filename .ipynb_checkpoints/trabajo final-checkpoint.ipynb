{
  "cells": [
    {
      "cell_type": "markdown",
      "metadata": {
        "id": "0SzNF8AgwRmv"
      },
      "source": [
        "# Trabajo Final de \"PROGRAMACIÓN 1\" - TUIA - 2C - 2023\n",
        "# Integrantes del Grupo:\n",
        "*   XXXX, XXXXX\n",
        "*   XXXX, XXXXX\n",
        "*   XXXX, XXXXX\n",
        "*   XXXX, XXXXX\n",
        "\n",
        "\n",
        "\n",
        "\n",
        "\n",
        "\n"
      ]
    },
    {
      "cell_type": "markdown",
      "metadata": {
        "id": "mRVDFVpWw4g3"
      },
      "source": [
        "# Presentación del tema: **Servicio Meteorológico**\n",
        "\n",
        "El **Servicio Meteorológico Nacional** publica diferentes mediciones que se realizan de temperaturas, viento, humedad, precipitaciones, etc. en diferentes lugares del país en la [web](https://datos.gob.ar/dataset?groups=envi&organization=defensa&_tags_limit=0).\n",
        "\n",
        "\n",
        "En el presente trabajo vamos a utilizar los datos publicados sobre [mediciones](https://drive.google.com/file/d/1HcjvyLIbMNk4GceqhLDcUkg--Rv0vpOU/view?usp=sharing) efectuadas en diferentes\n",
        "puntos del país en el último año."
      ]
    },
    {
      "cell_type": "markdown",
      "metadata": {
        "id": "SqVW_yhhEcpt"
      },
      "source": [
        "# Estructura de datos\n",
        "\n",
        "Para la resolución del presente trabajo debe usar alguna de las estructuras de datos vistas en la materia:\n",
        "\n",
        "*   Listas\n",
        "*   Diccionarios\n",
        "*   Tuplas\n",
        "*   Clases y Objetos\n",
        "\n",
        "o una combinación de ellas.\n",
        "\n",
        "\n",
        "\n",
        "\n",
        "\n"
      ]
    },
    {
      "cell_type": "markdown",
      "metadata": {
        "id": "bNtrqeZ-xCgX"
      },
      "source": [
        "# Carga de datos en las estructuras\n",
        "\n",
        "En grupo, analicen el contenido del archivo *servicio_meteorológico.csv* que provee ciertas mediciones efectuadas en diferentes estaciones meteorológicas del país.\n",
        "\n",
        "*Para la implementación de este trabajo final, recuerden que es muy importante comentar el código, usar nombres de variables significativos y definir funciones para trabajar de manera modular.*\n",
        "\n"
      ]
    },
    {
      "cell_type": "code",
      "source": [
        "#Las siguientes líneas de código son necesarias para poder trabajar con archivos .csv y realizar gráficos\n",
        "import csv\n",
        "import matplotlib.pyplot as plt\n",
        "import seaborn as sns\n",
        "sns.set()"
      ],
      "metadata": {
        "id": "UO_39rYOHES9"
      },
      "execution_count": null,
      "outputs": []
    },
    {
      "cell_type": "markdown",
      "source": [
        "NOTA: en clase se explicará cómo trabajar con archivos .csv y cargar datos en alguna de las estructuras de datos vistas durante la materia. Luego, en grupo, deberán analizar cuáles son las estructuras de datos más convenientes según las preguntas que deban responder más adelante. Completaremos el enunciado en las próximas semanas. Mientras tanto, analicen los datos del archivo compartido y practiquen la lectura de datos desde archivos implementando una o varias funciones carga (para las distintas estructuras de datos que propongan)."
      ],
      "metadata": {
        "id": "WNrxNLo3HPey"
      }
    },
    {
      "cell_type": "code",
      "execution_count": null,
      "metadata": {
        "id": "tJOn_417yTqN"
      },
      "outputs": [],
      "source": [
        "def carga(nombre_archivo: str) -> ... : #complete el/los tipo(s) de datos que devuelve la función\n",
        "\t#Esta función recibe como parámetro el nombre de un archivo\n",
        "\t#y carga la información necesaria en estructura(s) de datos pertinente(s),\n",
        "\t#luego devuelve la(s) estructura(s) de datos cargada(s)\n",
        "\n",
        "\t#completar\n",
        "\n",
        "\twith open(nombre_archivo) as Archivo:\n",
        "\t\treader = csv.reader(Archivo, delimiter = ',')\n",
        "\n",
        "\t\t#completar\n",
        "\n",
        "\t\treturn #completar"
      ]
    },
    {
      "cell_type": "code",
      "source": [
        "#definan una o varias funciones para imprimir la información cargada\n",
        "#reemplace el nombre imprimir_xxx por un nombre adecuado\n",
        "def imprimir_xxx(...) -> None: #completar el tipo de parámetro\n",
        "\t#toma como parámetro una estructura de datos y muestra\n",
        "\t#en pantalla su contenido de manera elegante\n",
        "\n",
        "  #completar\n",
        "\n",
        "#usen esta(s) función(es) para chequear que la función carga hace lo que se espera"
      ],
      "metadata": {
        "id": "4vrLQagHPf9X"
      },
      "execution_count": null,
      "outputs": []
    },
    {
      "cell_type": "markdown",
      "source": [
        "# Funciones\n",
        "\n",
        "\n",
        "1.   Crear UNA función que sirva para calcular el promedio, el máximo y el mínimo anual de cada medida, asumiendo que todos los datos están completos y son correctos.\n",
        "2.   Modifique la función anterior, sabiendo que no se disponen de todas las mediciones. Aquellas mediciones faltantes se indentifican con 'S/D' y no deben ser tenidas en cuenta para los cálculos.\n"
      ],
      "metadata": {
        "id": "cAxdBuzyd4Jw"
      }
    },
    {
      "cell_type": "markdown",
      "source": [
        "## Objetos\n",
        "\n",
        "\n",
        "1. Cree una clase llamada `EstacionMeteorologica` que represente una estación meteorológica. La clase debe tener como atributos de instancia los datos correspondientes a:\n",
        "* nombre de la estacion (nombre_estacion)\n",
        "* temperaturas promedios para cada mes del año (temps_prom_mens)\n",
        "* temperatura maxima anual (temp_maxima)\n",
        "* temperatura minima anual (temp_minima)\n",
        "* humedad anual promedio (hum_promedio)\n",
        "* humedad maxima anual (hum_maxima)\n",
        "* humedad minima anual (hum_minima)\n",
        "* velocidad promedio anual (vel_promedio)\n",
        "* velocidad maxima anual (vel_maxima)\n",
        "* velocidad minima anual (vel_minima)\n",
        "\n",
        "\n",
        "2.   Implemente el método **\\_\\_init\\_\\_** y **\\_\\_str\\_\\_**."
      ],
      "metadata": {
        "id": "ojXxtd57b-vi"
      }
    }
  ],
  "metadata": {
    "colab": {
      "provenance": []
    },
    "kernelspec": {
      "display_name": "Python 3",
      "name": "python3"
    },
    "language_info": {
      "name": "python"
    }
  },
  "nbformat": 4,
  "nbformat_minor": 0
}